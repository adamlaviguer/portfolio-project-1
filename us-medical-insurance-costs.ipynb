{
 "cells": [
  {
   "cell_type": "markdown",
   "metadata": {},
   "source": [
    "# U.S. Medical Insurance Costs\n",
    "\n",
    "## 1. Overview\n",
    "\n",
    "### 1.1 Approach\n",
    "1. Define the objective\n",
    "2. Review the data\n",
    "3. Set specific Goals for the analysis\n",
    "4. Analyze the data\n",
    "5. Evaluate the results\n",
    "6. Present findings\n",
    "\n",
    "### 1.2 Project Objective\n",
    "Given the `insurance.csv` file, conduct an analysis on the contents of the file using Python. Identify relevant trends in the data and present the results of the analysis.\n",
    "\n",
    "### 1.3 Trends to Identify\n",
    "- Find the `region` with the highest average `charges`.\n",
    "- Find the average `age` of the dataset.\n",
    "- Is there a correlation between being a `smoker` and the `charges`?\n",
    "- Find the average `charges` for each `age`.\n",
    "- Find the average `charges` for each `sex`.\n",
    "- Find the average `age` of people who have at least 1 `children`."
   ]
  },
  {
   "cell_type": "markdown",
   "metadata": {},
   "source": [
    "## 2. Program"
   ]
  },
  {
   "cell_type": "markdown",
   "metadata": {},
   "source": [
    "### 2.0 Dependencies\n",
    "\n",
    "    pip install numpy"
   ]
  },
  {
   "cell_type": "markdown",
   "metadata": {},
   "source": [
    "### 2.1 Read the CSV File"
   ]
  },
  {
   "cell_type": "code",
   "execution_count": null,
   "metadata": {},
   "outputs": [],
   "source": [
    "import csv\n",
    "import numpy as np\n",
    "\n",
    "with open('insurance.csv', newline = '') as read_csv:\n",
    "    csv_content = csv.DictReader(read_csv)\n",
    "    csv_dict = {}\n",
    "    id = 1\n",
    "    for row in csv_content:\n",
    "        row['id'] = id\n",
    "        csv_dict[id] = row\n",
    "        id += 1\n",
    "\n",
    "# Uncomment the following line to validate the that the csv file was opened and read correctly.\n",
    "#print(csv_dict)"
   ]
  },
  {
   "cell_type": "markdown",
   "metadata": {},
   "source": [
    "### 2.2 Find the `region` with the highest average `charges`\n",
    "#### 2.2.1 Define a Function to Create a Dictionary by Region\n",
    "Define a function which receives the dictionary object created by reading the .CSV file and creates a new dictionary where the key is the `region` and all the values are the dictionary lines with that `region` value."
   ]
  },
  {
   "cell_type": "code",
   "execution_count": null,
   "metadata": {},
   "outputs": [],
   "source": [
    "def create_region_dict(csv_dict):\n",
    "    csv_regions_dict = {}\n",
    "    for id in csv_dict:\n",
    "        current_region = csv_dict[id]['region']\n",
    "        current_id = csv_dict[id]\n",
    "        if current_region not in csv_regions_dict:\n",
    "            csv_regions_dict[current_region] = [current_id]\n",
    "        else:\n",
    "            csv_regions_dict[current_region].append(current_id)\n",
    "    return csv_regions_dict\n",
    "\n",
    "csv_regions_dict = create_region_dict(csv_dict)\n",
    "# Uncomment the following line to validate the `create_region_dict` function\n",
    "# print(csv_regions_dict)"
   ]
  },
  {
   "cell_type": "markdown",
   "metadata": {},
   "source": [
    "#### 2.2.2 Define a Function to Get the Sum and Count of Charges in Each Region\n",
    "Define a function which receives the Dictionary by Region variable and then sums and counts the charges in each `region` and then saves the results to a new dictionary."
   ]
  },
  {
   "cell_type": "code",
   "execution_count": null,
   "metadata": {},
   "outputs": [],
   "source": [
    "def get_regional_charges(csv_regions_dict):\n",
    "    total_regional_charges_dict = {}\n",
    "    max_charges = 0\n",
    "    max_region = ''\n",
    "    for region in csv_regions_dict:\n",
    "        total_regional_charges_dict[region] = {'sum': 0, 'count': 0}\n",
    "        for row in csv_regions_dict[region]:\n",
    "            i = 1\n",
    "            current_charges = float(row['charges'])\n",
    "            total_regional_charges_dict[region]['sum'] += current_charges\n",
    "            total_regional_charges_dict[region]['count'] += i\n",
    "            i += 1\n",
    "        if total_regional_charges_dict[region]['sum'] > max_charges:\n",
    "            max_charges = total_regional_charges_dict[region]['sum']\n",
    "            max_region = region\n",
    "        else:\n",
    "            pass\n",
    "    return total_regional_charges_dict, max_region, max_charges\n",
    "\n",
    "total_regional_charges_dict, max_region, max_charges = get_regional_charges(csv_regions_dict)\n",
    "# Uncomment the following lines to validate the `get_regional_charges` function\n",
    "# print(str(total_regional_charges_dict) + '\\n')\n",
    "print(\"The \" + max_region + \" region has the highest amount of charges at $\" + str(max_charges) + \" total charges.\")"
   ]
  },
  {
   "cell_type": "markdown",
   "metadata": {},
   "source": [
    "#### 2.2.3 Get Average Charges Function"
   ]
  },
  {
   "cell_type": "code",
   "execution_count": null,
   "metadata": {},
   "outputs": [],
   "source": [
    "def get_avg_charges(charges_dict):\n",
    "    avg_charges_dict = {}\n",
    "    for region in charges_dict:\n",
    "        avg_charges_dict[region] = 0\n",
    "        for row in charges_dict[region]:\n",
    "            current_avg_charges = float(charges_dict[region]['sum']) / float(charges_dict[region]['count'])\n",
    "            avg_charges_dict[region] = current_avg_charges\n",
    "        print(\"The \" + region + \" region has an average charge amount of $\" + str(avg_charges_dict[region]) + \".\")\n",
    "    return avg_charges_dict\n",
    "        \n",
    "avg_charges_dict = get_avg_charges(total_regional_charges_dict)\n",
    "# Uncomment the following line to validate the `get_avg_charges` function\n",
    "# print(avg_charges_dict)"
   ]
  },
  {
   "cell_type": "markdown",
   "metadata": {},
   "source": [
    "## 3.1 Find the average `age` within the dataset\n",
    "#### 3.1.1 Define a Function to Get the Average Age Within the Dataset"
   ]
  },
  {
   "cell_type": "code",
   "execution_count": null,
   "metadata": {},
   "outputs": [],
   "source": [
    "def get_avg_age(csv_dict):\n",
    "    total_ages = 0\n",
    "    count_ages = 0\n",
    "    for id in csv_dict:\n",
    "        total_ages += float(csv_dict[id]['age'])\n",
    "        count_ages += 1\n",
    "    return total_ages/count_ages\n",
    "avg_age = get_avg_age(csv_dict)\n",
    "print(\"The average age within the dataset is \" + str(avg_age) + \" years.\")"
   ]
  },
  {
   "cell_type": "markdown",
   "metadata": {},
   "source": [
    "## 4.1 Is there a correlation between being a `smoker` and `charges`?\n",
    "When one set of values consists of only 1s and 0s (binary data) and the other set consists of continuous float values (numeric data), you can still calculate a correlation coefficient. However, it's important to understand that the resulting correlation coefficient will be influenced by the nature of the data and may not fully capture the relationship between the variables.\n",
    "### 4.1.1 Define a Function to Get the Correlation Coefficient of `smoker` and `charges`"
   ]
  },
  {
   "cell_type": "code",
   "execution_count": null,
   "metadata": {},
   "outputs": [],
   "source": [
    "def get_smoker_charges(csv_dict):\n",
    "    smoker = []\n",
    "    charges = []\n",
    "    for id in csv_dict:\n",
    "        charges.append(float(csv_dict[id]['charges']))\n",
    "        smokes = lambda x: 1 if x == 'yes' else 0\n",
    "        smoker.append(smokes(csv_dict[id]['smoker']))\n",
    "    return smoker, charges\n",
    "\n",
    "smoker, charges = get_smoker_charges(csv_dict)\n",
    "smoker_charge_correlation_coefficient = np.corrcoef(smoker, charges)[0,1]\n",
    "print(\"The smoker charge correlation coefficient is: \" + str(smoker_charge_correlation_coefficient))"
   ]
  },
  {
   "cell_type": "markdown",
   "metadata": {},
   "source": [
    "## 5.1 Find the average `charges` by `age`"
   ]
  },
  {
   "cell_type": "code",
   "execution_count": 75,
   "metadata": {},
   "outputs": [
    {
     "name": "stdout",
     "output_type": "stream",
     "text": [
      "{'19': 9747.909334558823, '18': 7086.2175563623205, '28': 9069.187564285712, '33': 12351.53298730769, '32': 9220.300290769232, '31': 10196.980573333332, '46': 14342.590638620688, '37': 18019.9118772, '60': 21979.418507391303, '25': 9838.365310714285, '62': 19163.85657347826, '23': 12419.820039642855, '56': 15025.515836538463, '27': 12184.701721428573, '52': 18256.26971931034, '30': 12719.110358148146, '34': 11613.52812076923, '59': 18895.869531599998, '63': 19884.998460869567, '55': 16164.54548846154, '22': 10012.932801785715, '26': 6133.825308571429, '35': 11307.182031200002, '24': 10648.015962142857, '41': 9653.745649629629, '38': 8102.733674, '36': 12204.476138, '21': 4730.464329642857, '48': 14632.50044517241, '40': 11772.25131, '58': 13878.9281116, '53': 16020.930755000003, '43': 19267.27865333333, '64': 23275.530837272723, '20': 10159.697736206897, '61': 22024.45760869565, '44': 15859.396587037038, '57': 16447.185250000002, '29': 10430.158727037038, '45': 14830.199856206897, '54': 18758.546475357143, '49': 12696.006264285714, '47': 17653.99959310345, '51': 15682.255867241382, '42': 13061.038668888888, '50': 15663.003300689661, '39': 11778.2429452}\n"
     ]
    }
   ],
   "source": [
    "def get_avg_charges_by_age(csv_dict):\n",
    "    total_charges = 0\n",
    "    count_charges = 0\n",
    "    ages_dict = {}\n",
    "    for id in csv_dict:\n",
    "        i = 1\n",
    "        current_age = csv_dict[id]['age']\n",
    "        if current_age not in ages_dict:\n",
    "            ages_dict[current_age] = {'sum': 0, 'count': 0}\n",
    "        else: pass\n",
    "        current_charges = float(csv_dict[id]['charges'])\n",
    "        ages_dict[current_age]['sum'] += current_charges\n",
    "        ages_dict[current_age]['count'] += i\n",
    "        i += 1\n",
    "    \n",
    "    ages_avg_charges_dict = {}\n",
    "    for age in ages_dict:\n",
    "        ages_avg_charges_dict[age] = float(ages_dict[age]['sum']) / float(ages_dict[age]['count'])\n",
    "    return ages_avg_charges_dict\n",
    "ages_avg_charges_dict = get_avg_charges_by_age(csv_dict)\n",
    "print(ages_avg_charges_dict)"
   ]
  },
  {
   "cell_type": "markdown",
   "metadata": {},
   "source": [
    "## 6.1 Find the average `charges` by `sex`"
   ]
  }
 ],
 "metadata": {
  "kernelspec": {
   "display_name": "Python 3 (ipykernel)",
   "language": "python",
   "name": "python3"
  },
  "language_info": {
   "codemirror_mode": {
    "name": "ipython",
    "version": 3
   },
   "file_extension": ".py",
   "mimetype": "text/x-python",
   "name": "python",
   "nbconvert_exporter": "python",
   "pygments_lexer": "ipython3",
   "version": "3.12.2"
  }
 },
 "nbformat": 4,
 "nbformat_minor": 4
}
